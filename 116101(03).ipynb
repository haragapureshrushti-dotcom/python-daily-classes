{
  "nbformat": 4,
  "nbformat_minor": 0,
  "metadata": {
    "colab": {
      "provenance": []
    },
    "kernelspec": {
      "name": "python3",
      "display_name": "Python 3"
    },
    "language_info": {
      "name": "python"
    }
  },
  "cells": [
    {
      "cell_type": "code",
      "source": [
        "0i = input(\"enter the value :i\")\n",
        "j = input(\"enter the value :j\")\n",
        "print(i +\" \" +j)\n",
        "\n"
      ],
      "metadata": {
        "colab": {
          "base_uri": "https://localhost:8080/"
        },
        "id": "AMGaRtr-1UcK",
        "outputId": "dfc93da8-2d39-46cc-b5d4-d6e7a1bfb692"
      },
      "execution_count": null,
      "outputs": [
        {
          "output_type": "stream",
          "name": "stdout",
          "text": [
            "enter the value :iBK\n",
            "enter the value :jcollege\n",
            "BK college\n"
          ]
        }
      ]
    },
    {
      "cell_type": "code",
      "source": [
        "x = 100\n",
        "y = 50\n",
        "print(f'Addition of {x} and {y} value is = {x+y}')\n",
        "print(f'Division of {x} and {y} value is = {x/y}')"
      ],
      "metadata": {
        "colab": {
          "base_uri": "https://localhost:8080/"
        },
        "id": "GmDZydXs4Lqa",
        "outputId": "79183042-7207-4191-96fd-32b8ca776869"
      },
      "execution_count": null,
      "outputs": [
        {
          "output_type": "stream",
          "name": "stdout",
          "text": [
            "Addition of 100 and 50 value is = 150\n",
            "Division of 100 and 50 value is = 2.0\n"
          ]
        }
      ]
    },
    {
      "cell_type": "code",
      "source": [
        "name = \"shrushti\"\n",
        "course = \"MCA\"\n",
        "year = 2022\n",
        "Department = \"BCA\"\n",
        "pincode = 592216\n",
        "print(f\"Hi,Good morning My name is {name}, i have complited {course} in the {year}, corrently i'm wirking in KLE BK {Department}, college Chikkodi {pincode}\")\n"
      ],
      "metadata": {
        "colab": {
          "base_uri": "https://localhost:8080/"
        },
        "id": "sHQMc-Kh5Pqa",
        "outputId": "ee7014f9-52da-4e01-8055-52264373c320"
      },
      "execution_count": null,
      "outputs": [
        {
          "output_type": "stream",
          "name": "stdout",
          "text": [
            "Hi,Good morning My name is shrushti, i have complited MCA in the 2022, corrently i'm wirking in KLE BK BCA, college Chikkodi 592216\n"
          ]
        }
      ]
    },
    {
      "cell_type": "code",
      "source": [
        "x = 100\n",
        "y = 50\n",
        "print(f'addition of{x} and {y} value is = {x+y}')\n",
        "print(f'substraction of{x} and {y} value is = {x-y}')\n",
        "print(f'multiplication of{x} and {y} value is = {x*y}')\n",
        "print(f'division of{x} and {y} value is = {x/y}')"
      ],
      "metadata": {
        "colab": {
          "base_uri": "https://localhost:8080/"
        },
        "id": "cftsZ0oy965L",
        "outputId": "292ecf62-9bde-4c36-8ee1-557d8a31d185"
      },
      "execution_count": null,
      "outputs": [
        {
          "output_type": "stream",
          "name": "stdout",
          "text": [
            "addition of100 and 50 value is = 150\n",
            "substraction of100 and 50 value is = 50\n",
            "multiplication of100 and 50 value is = 5000\n",
            "division of100 and 50 value is = 2.0\n"
          ]
        }
      ]
    },
    {
      "cell_type": "code",
      "source": [
        "Num1 = int(input(\"enter the value :\"))\n",
        "Num2 = int(input(\"enter the value :\"))\n",
        "print(\"Addision of two number is :\" ,Num1 + Num2)\n",
        "print()\n",
        "print(\"substraction of two number is : \" ,Num1 - Num2)\n",
        "print()\n",
        "print(\"Multiplication of two number is :\" ,Num1 * Num2 )\n",
        "print()\n",
        "print(\"division of two number is :\" ,Num1 / Num2)\n",
        "print()\n",
        "print(\"Floor Division of two is :\" ,Num1 // Num2)\n",
        "print()\n",
        "print(\"Modulus of two numbers is : \" ,Num1 % Num2)"
      ],
      "metadata": {
        "colab": {
          "base_uri": "https://localhost:8080/"
        },
        "id": "aRUKt2jBB1Ly",
        "outputId": "7eed834d-f689-45ef-b6cb-0dd510c4078b"
      },
      "execution_count": null,
      "outputs": [
        {
          "output_type": "stream",
          "name": "stdout",
          "text": [
            "enter the value :10\n",
            "enter the value :5\n",
            "Addision of two number is : 15\n",
            "\n",
            "substraction of two number is :  5\n",
            "\n",
            "Multiplication of two number is : 50\n",
            "\n",
            "division of two number is : 2.0\n",
            "\n",
            "Floor Division of two is : 2\n",
            "\n",
            "Modulus of two numbers is :  0\n"
          ]
        }
      ]
    },
    {
      "cell_type": "code",
      "source": [
        "number1 = 35\n",
        "number2 = 40\n",
        "print(number1>number2)\n",
        "print(number1<number2)\n",
        "print(35==number2)\n",
        "print(number1!=number2)\n",
        "print(number1>=40)\n",
        "print(number1<=number2)"
      ],
      "metadata": {
        "colab": {
          "base_uri": "https://localhost:8080/"
        },
        "id": "wGUJOsXkHSgx",
        "outputId": "cffc025e-5ab1-476d-cb32-c8ae9f6b554d"
      },
      "execution_count": null,
      "outputs": [
        {
          "output_type": "stream",
          "name": "stdout",
          "text": [
            "False\n",
            "True\n",
            "False\n",
            "True\n",
            "False\n",
            "True\n"
          ]
        }
      ]
    },
    {
      "cell_type": "code",
      "source": [
        " a = 20\n",
        "b = 35\n",
        "c = 13\n",
        "d = 10\n",
        "print( a == b and c < d)\n",
        "print( 13 != c and d < c)\n",
        "print( b > a and d<c )\n",
        "print(20 != a and c==b)\n",
        "print(a<b or b==c)\n",
        "print((not(a < b))and 100 < 200)\n",
        "print(not(d ==10))\n",
        "print(35 != d or (not(20==a)))\n",
        "print(not(c<=b and (not(a<= c))))"
      ],
      "metadata": {
        "colab": {
          "base_uri": "https://localhost:8080/"
        },
        "id": "OzryxUjiOUnC",
        "outputId": "82667f18-0a7d-4d64-f41b-aed9e302fcd0"
      },
      "execution_count": null,
      "outputs": [
        {
          "output_type": "stream",
          "name": "stdout",
          "text": [
            "False\n",
            "False\n",
            "True\n",
            "False\n",
            "True\n",
            "False\n",
            "False\n",
            "True\n",
            "False\n"
          ]
        }
      ]
    },
    {
      "cell_type": "code",
      "source": [
        "x = 10\n",
        "print(x)\n",
        "x -= 2\n",
        "print(x)\n",
        "x *= 5\n",
        "print(x)\n",
        "x //=3\n",
        "print(x)\n",
        "x **=2\n",
        "print (x)\n",
        "x %= 4\n",
        "print(x)\n",
        "x+=9\n",
        "print(x)\n",
        "x /=3\n",
        "print(x)\n"
      ],
      "metadata": {
        "colab": {
          "base_uri": "https://localhost:8080/"
        },
        "id": "dcmddoZjR6ht",
        "outputId": "c496b196-3c0d-412a-b11b-fde9b289b7d6"
      },
      "execution_count": null,
      "outputs": [
        {
          "output_type": "stream",
          "name": "stdout",
          "text": [
            "10\n",
            "8\n",
            "40\n",
            "13\n",
            "169\n",
            "1\n",
            "10\n",
            "3.3333333333333335\n"
          ]
        }
      ]
    },
    {
      "cell_type": "code",
      "source": [
        "Num = 9\n",
        "if Num < 10 :\n",
        "  print(\"10 is a greater than 9\")\n"
      ],
      "metadata": {
        "colab": {
          "base_uri": "https://localhost:8080/"
        },
        "id": "m_O_JIdAXVBJ",
        "outputId": "dc66d9f3-b40c-4448-f550-4ac0721d42e2"
      },
      "execution_count": null,
      "outputs": [
        {
          "output_type": "stream",
          "name": "stdout",
          "text": [
            "10 is a greater than 9\n"
          ]
        }
      ]
    },
    {
      "cell_type": "code",
      "source": [
        "User_id = \"20MCA103\"\n",
        "Password = 1234\n",
        "if User_id == \"20MCA103\" and Password == 1234:\n",
        "  print(\"Login Successfully\")\n"
      ],
      "metadata": {
        "colab": {
          "base_uri": "https://localhost:8080/"
        },
        "id": "1wM5mFLiu0zB",
        "outputId": "0ec21669-0577-43e1-9521-cfd17d3a3484"
      },
      "execution_count": null,
      "outputs": [
        {
          "output_type": "stream",
          "name": "stdout",
          "text": [
            "Login Successfully\n"
          ]
        }
      ]
    },
    {
      "cell_type": "code",
      "source": [
        "Ex = 59\n",
        "if Ex == 58 :\n",
        "  print(\"are you understand\")"
      ],
      "metadata": {
        "id": "AW7iPozgvs7Z"
      },
      "execution_count": null,
      "outputs": []
    },
    {
      "cell_type": "code",
      "source": [
        "Name  = \"Shrushti\"\n",
        "if Name <= \"BK\" :\n",
        "  print(\"My name is Shrushti\")\n"
      ],
      "metadata": {
        "id": "CS65xTBCwLN4"
      },
      "execution_count": null,
      "outputs": []
    },
    {
      "cell_type": "code",
      "source": [
        "Num = int(input(\"enter a number value\"))\n",
        "if Num > 0 :\n",
        "  print(\"positive number\")\n",
        "else :\n",
        "    print(\"nagetive number\")"
      ],
      "metadata": {
        "colab": {
          "base_uri": "https://localhost:8080/"
        },
        "id": "mSD4Id0-w37R",
        "outputId": "76bcc893-0b21-41de-cd20-5c08b5d5d5ea"
      },
      "execution_count": null,
      "outputs": [
        {
          "output_type": "stream",
          "name": "stdout",
          "text": [
            "enter a number value5\n",
            "positive number\n"
          ]
        }
      ]
    },
    {
      "cell_type": "code",
      "source": [
        "num = int(input(\"enter a number value :\"))\n",
        "if num % 2 == 0:\n",
        "  print(\"even number\")\n",
        "else :\n",
        "  print(\"odd number\")\n",
        "\n"
      ],
      "metadata": {
        "colab": {
          "base_uri": "https://localhost:8080/"
        },
        "id": "63g8ZDgNzbqU",
        "outputId": "6f2eb034-9d85-4d01-b9e7-4dd43f4588e5"
      },
      "execution_count": null,
      "outputs": [
        {
          "output_type": "stream",
          "name": "stdout",
          "text": [
            "enter a number value :45\n",
            "odd number\n"
          ]
        }
      ]
    },
    {
      "cell_type": "code",
      "source": [
        "year = int(input(\"enter a year value :\"))\n",
        "if year % 4 == 0:\n",
        "  print(\"Leap year\")\n",
        "else :\n",
        "  print(\"Not Leap yesr\")\n"
      ],
      "metadata": {
        "colab": {
          "base_uri": "https://localhost:8080/"
        },
        "id": "ZAioYlaX2Lw4",
        "outputId": "4b50541a-1766-4550-fe6a-81dcec157d4f"
      },
      "execution_count": null,
      "outputs": [
        {
          "output_type": "stream",
          "name": "stdout",
          "text": [
            "enter a year value :2025\n",
            "Not Leap yesr\n"
          ]
        }
      ]
    },
    {
      "cell_type": "code",
      "source": [
        "Age = int(input(\"enter a year value :\"))\n",
        "if Age >= 18:\n",
        "  print(\"they are eligible for voting\")\n",
        "else :\n",
        "  print(\"they have to wait\")"
      ],
      "metadata": {
        "colab": {
          "base_uri": "https://localhost:8080/"
        },
        "id": "a3rX5VIX5Boa",
        "outputId": "1dddbe25-d85d-4a75-9022-cff21b91119e"
      },
      "execution_count": null,
      "outputs": [
        {
          "output_type": "stream",
          "name": "stdout",
          "text": [
            "enter a year value :24\n",
            "they are eligible for voting\n"
          ]
        }
      ]
    },
    {
      "cell_type": "code",
      "source": [
        "User_id = \"12MCA345\"\n",
        "Password = 121234\n",
        "if User_id == \"12MCA345\" and Password == 121234:\n",
        "  print(\"Login Successfully\")\n",
        "else :\n",
        "  print(\"Login Failed\")"
      ],
      "metadata": {
        "colab": {
          "base_uri": "https://localhost:8080/"
        },
        "id": "NKe2gT0L6LO6",
        "outputId": "4687708a-10ac-42e8-a24d-9f6607024b8f"
      },
      "execution_count": null,
      "outputs": [
        {
          "output_type": "stream",
          "name": "stdout",
          "text": [
            "Login Successfully\n"
          ]
        }
      ]
    },
    {
      "cell_type": "code",
      "source": [
        "user_id = input(\"enter user_id value\")\n",
        "password = int(input(\"enter password value :\"))\n",
        "if user_id == \"college\" and password ==1234 :\n",
        "  print(\"login successfully\")\n",
        "else :\n",
        "  print(\"Invalid credentials\")"
      ],
      "metadata": {
        "colab": {
          "base_uri": "https://localhost:8080/"
        },
        "id": "dfFVU2hP62VR",
        "outputId": "3724d200-7014-4d7c-f547-f508a4967a60"
      },
      "execution_count": null,
      "outputs": [
        {
          "output_type": "stream",
          "name": "stdout",
          "text": [
            "enter user_id valuecollege\n",
            "enter password value :1234\n",
            "login successfully\n"
          ]
        }
      ]
    },
    {
      "cell_type": "code",
      "source": [
        "marks =int(input(\"enter the marks :\"))\n",
        "if marks >= 85 :\n",
        "  print(\"distinction\")\n",
        "elif marks >= 70 :\n",
        "  print(\"frist class\")\n",
        "elif marks >=55 :\n",
        "  print(\"second clas\")\n",
        "elif marks >=35 :\n",
        "  print(\"just pass\")\n",
        "else :\n",
        "  print(\"fail better luck next time\")"
      ],
      "metadata": {
        "colab": {
          "base_uri": "https://localhost:8080/"
        },
        "id": "EDp3OY8B_3yi",
        "outputId": "73ff8e6e-1f3b-4c7f-c8c3-2a4867e30393"
      },
      "execution_count": null,
      "outputs": [
        {
          "output_type": "stream",
          "name": "stdout",
          "text": [
            "enter the marks :88\n",
            "distinction\n"
          ]
        }
      ]
    },
    {
      "cell_type": "code",
      "source": [
        "prize = input(\"enter the medal :\")\n",
        "if prize == \"Gold\" :\n",
        "  print(\"first prize\")\n",
        "elif prize == \"silver\" :\n",
        "  print(\"second prize\")\n",
        "elif prize == \"bronze\" :\n",
        "  print(\"third prize\")\n",
        "elif prize == \"certificatr\" :\n",
        "  print(\"samadankar bahuman\")\n",
        "else :\n",
        "  print(\"better luck next chance\")"
      ],
      "metadata": {
        "colab": {
          "base_uri": "https://localhost:8080/"
        },
        "id": "KE7wj3tsCs0L",
        "outputId": "9ec0a9a4-338f-430d-b176-d3b8f27a4693"
      },
      "execution_count": null,
      "outputs": [
        {
          "output_type": "stream",
          "name": "stdout",
          "text": [
            "enter the medal :silver\n",
            "second prize\n"
          ]
        }
      ]
    },
    {
      "cell_type": "code",
      "source": [
        "signels = input(\"enter the signel :\")\n",
        "if signels == \"red\" :\n",
        "  print(\"stop\")\n",
        "elif signels == \"yellow\" :\n",
        "  print(\"ready\")\n",
        "elif signels == \"green\" :\n",
        "  print(\"go\")"
      ],
      "metadata": {
        "colab": {
          "base_uri": "https://localhost:8080/"
        },
        "id": "5arhv1vwFOVj",
        "outputId": "b9f35173-13fd-4cf6-af63-96c6bdccc8ee"
      },
      "execution_count": null,
      "outputs": [
        {
          "output_type": "stream",
          "name": "stdout",
          "text": [
            "enter the signel :red\n",
            "stop\n"
          ]
        }
      ]
    },
    {
      "cell_type": "code",
      "source": [
        "num = int(input(\"enter the value\"))\n",
        "if num > 0 :\n",
        "  if num == 0 :\n",
        "    print(\"zero value\")\n",
        "  else :\n",
        "    print(\"positive number\")\n",
        "else :\n",
        "    print(\"nagetive number\")"
      ],
      "metadata": {
        "colab": {
          "base_uri": "https://localhost:8080/"
        },
        "id": "CfFE-FRbZsSN",
        "outputId": "2124f97c-95ef-4194-f0e2-909d02dc57bb"
      },
      "execution_count": null,
      "outputs": [
        {
          "output_type": "stream",
          "name": "stdout",
          "text": [
            "enter the value-8\n",
            "nagetive number\n"
          ]
        }
      ]
    },
    {
      "cell_type": "code",
      "source": [
        "a,b,c = 25,35,15\n",
        "if a >b :\n",
        "  if a > c :\n",
        "    print(\"a is greatest number\")\n",
        "  else :\n",
        "    print(\"c is greatest number\")\n",
        "else :\n",
        "  if b > c :\n",
        "    print(\"b is greatest number\")\n",
        "  else :\n",
        "    print(\"c is greatest number\")"
      ],
      "metadata": {
        "colab": {
          "base_uri": "https://localhost:8080/"
        },
        "id": "P_uwbHRrbPKu",
        "outputId": "eab6b24e-1b84-4e14-b7e6-5fd923189934"
      },
      "execution_count": null,
      "outputs": [
        {
          "output_type": "stream",
          "name": "stdout",
          "text": [
            "b is greatest number\n"
          ]
        }
      ]
    },
    {
      "cell_type": "code",
      "source": [
        "a,b,c = 25,35,15\n",
        "if a >b :\n",
        "  if a > c :\n",
        "    print(\"a is smallest number\" ,a)\n",
        "  else :\n",
        "    print(\"c is smallest number\" ,c)\n",
        "else :\n",
        "  if b > c :\n",
        "    print(\"b is smallest number\" ,b)\n",
        "  else :\n",
        "    print(\"c is smallest number\" ,c)"
      ],
      "metadata": {
        "colab": {
          "base_uri": "https://localhost:8080/"
        },
        "id": "QLZQF5fxcLd4",
        "outputId": "8273a06b-d039-4d59-ee21-eb91aeae0b60"
      },
      "execution_count": null,
      "outputs": [
        {
          "output_type": "stream",
          "name": "stdout",
          "text": [
            "b is smallest number 35\n"
          ]
        }
      ]
    },
    {
      "cell_type": "code",
      "source": [
        "x, y = 10, 20\n",
        "option = input(\"enter your choice option :\")\n",
        "match option :\n",
        "  case '+' :\n",
        "    print(\"sum of values\" , x + y)\n",
        "  case '-' :\n",
        "    print(\"substraction of values\" , x - y)\n",
        "  case '*' :\n",
        "    print(\"multiplication of values\" , x * y)\n",
        "  case '/' :\n",
        "    print(\"division of values\" , x / y)\n",
        "  case '%' :\n",
        "      print(\"modulus of values\" , x % y)\n",
        "  case '!=' :\n",
        "        print(\"not eqale to of value\",x!=y )\n",
        "  case _ :\n",
        "    print(\"invalide operator\")\n",
        "\n"
      ],
      "metadata": {
        "colab": {
          "base_uri": "https://localhost:8080/"
        },
        "id": "pWRgNAY-cmf9",
        "outputId": "6e9575cf-ccbe-4170-8241-9479abe7c32e"
      },
      "execution_count": null,
      "outputs": [
        {
          "output_type": "stream",
          "name": "stdout",
          "text": [
            "enter your choice option :!=\n",
            "not eqale to of value True\n"
          ]
        }
      ]
    },
    {
      "cell_type": "code",
      "source": [
        "option = input(\"enter the day number: \")\n",
        "match option:\n",
        "    case '1':\n",
        "        print('monday')\n",
        "    case '2':\n",
        "        print('tuesday')\n",
        "    case '3':\n",
        "        print('wednesday')\n",
        "    case '4':\n",
        "        print('thursday')\n",
        "    case '5':\n",
        "        print('friday')\n",
        "    case '6':\n",
        "        print('saturday')\n",
        "    case '7':\n",
        "        print('sunday')\n",
        "    case _:\n",
        "        print('holiday')"
      ],
      "metadata": {
        "colab": {
          "base_uri": "https://localhost:8080/"
        },
        "id": "KTNxPAxSiQFW",
        "outputId": "48c56f85-2fd1-440b-85c6-261ae7e9a231"
      },
      "execution_count": null,
      "outputs": [
        {
          "output_type": "stream",
          "name": "stdout",
          "text": [
            "enter the day number: 5\n",
            "friday\n"
          ]
        }
      ]
    },
    {
      "cell_type": "code",
      "source": [
        "option = input(\"enter the month number: \")\n",
        "match option:\n",
        "    case '1':\n",
        "        print('juanaury')\n",
        "    case '2':\n",
        "        print('february')\n",
        "    case '3':\n",
        "        print('march')\n",
        "    case '4':\n",
        "        print('april')\n",
        "    case '5':\n",
        "        print('may')\n",
        "    case '6':\n",
        "        print('june')\n",
        "    case '7':\n",
        "        print('july')\n",
        "    case '8':\n",
        "        print('august')\n",
        "    case '9' :\n",
        "        print('september')\n",
        "    case '10' :\n",
        "        print('october')\n",
        "    case '11' :\n",
        "        print('november')\n",
        "    case '12' :\n",
        "        print('december')\n"
      ],
      "metadata": {
        "colab": {
          "base_uri": "https://localhost:8080/"
        },
        "id": "dXmOaMKrlr4n",
        "outputId": "39df9384-c7b3-4e70-990d-40f7049cb92a"
      },
      "execution_count": null,
      "outputs": [
        {
          "output_type": "stream",
          "name": "stdout",
          "text": [
            "enter the month number: 11\n",
            "november\n"
          ]
        }
      ]
    },
    {
      "cell_type": "code",
      "source": [
        "i =1\n",
        "while i <= 60 :\n",
        "  print(i,end= \" \")\n",
        "  i +=1"
      ],
      "metadata": {
        "colab": {
          "base_uri": "https://localhost:8080/"
        },
        "id": "6hBtpcagnijX",
        "outputId": "b4bc1440-18a6-4b7f-d0a4-dcd5b80223ca"
      },
      "execution_count": null,
      "outputs": [
        {
          "output_type": "stream",
          "name": "stdout",
          "text": [
            "1 2 3 4 5 6 7 8 9 10 11 12 13 14 15 16 17 18 19 20 21 22 23 24 25 26 27 28 29 30 31 32 33 34 35 36 37 38 39 40 41 42 43 44 45 46 47 48 49 50 51 52 53 54 55 56 57 58 59 60 "
          ]
        }
      ]
    },
    {
      "cell_type": "code",
      "source": [
        "i = 1\n",
        "add =0\n",
        "while i<=10 :\n",
        "   add = add+i\n",
        "   i = i+1\n",
        "print(\"sum of  N Natural number is:\" , add)\n"
      ],
      "metadata": {
        "colab": {
          "base_uri": "https://localhost:8080/"
        },
        "id": "MaUg6Dj_rh7f",
        "outputId": "f18a9406-915d-4182-9815-50e36f316c08"
      },
      "execution_count": null,
      "outputs": [
        {
          "output_type": "stream",
          "name": "stdout",
          "text": [
            "sum of  N Natural number is: 55\n"
          ]
        }
      ]
    },
    {
      "cell_type": "code",
      "source": [
        "num = 5\n",
        "i = 1\n",
        "while i<=10 :\n",
        "    print(\"5 *\",i,\"=\",num*i)\n",
        "    i = i+1"
      ],
      "metadata": {
        "colab": {
          "base_uri": "https://localhost:8080/"
        },
        "id": "YwdI4W2Ptt8g",
        "outputId": "b6dec715-f8d5-4663-97b6-60454658f619"
      },
      "execution_count": null,
      "outputs": [
        {
          "output_type": "stream",
          "name": "stdout",
          "text": [
            "5 * 1 = 5\n",
            "5 * 2 = 10\n",
            "5 * 3 = 15\n",
            "5 * 4 = 20\n",
            "5 * 5 = 25\n",
            "5 * 6 = 30\n",
            "5 * 7 = 35\n",
            "5 * 8 = 40\n",
            "5 * 9 = 45\n",
            "5 * 10 = 50\n"
          ]
        }
      ]
    },
    {
      "cell_type": "code",
      "source": [
        "num = 18\n",
        "i = 1\n",
        "while i<=10 :\n",
        "  print(\"18*\",i,\"=\",num*i)\n",
        "  i = i+1"
      ],
      "metadata": {
        "colab": {
          "base_uri": "https://localhost:8080/"
        },
        "id": "yZtCzfH5waiA",
        "outputId": "96f47eda-9fad-4fc1-89d0-afd222a2536f"
      },
      "execution_count": null,
      "outputs": [
        {
          "output_type": "stream",
          "name": "stdout",
          "text": [
            "18* 1 = 18\n",
            "18* 2 = 36\n",
            "18* 3 = 54\n",
            "18* 4 = 72\n",
            "18* 5 = 90\n",
            "18* 6 = 108\n",
            "18* 7 = 126\n",
            "18* 8 = 144\n",
            "18* 9 = 162\n",
            "18* 10 = 180\n"
          ]
        }
      ]
    },
    {
      "cell_type": "code",
      "source": [
        "num = 153\n",
        "rem = 0\n",
        "sum = 0\n",
        "temp = num\n",
        "while num != 0 :\n",
        "  rem = num % 10\n",
        "  sum = sum + rem * rem * rem\n",
        "  num = num // 10\n",
        "if temp == sum :\n",
        "  print(\"armstrong number\")\n",
        "else :\n",
        "  print(\"not armstrong number\")\n"
      ],
      "metadata": {
        "colab": {
          "base_uri": "https://localhost:8080/"
        },
        "id": "TyFt7Hk_xebI",
        "outputId": "c2a88023-a610-4ad0-c20c-861849c5b885"
      },
      "execution_count": null,
      "outputs": [
        {
          "output_type": "stream",
          "name": "stdout",
          "text": [
            "armstrong number\n"
          ]
        }
      ]
    },
    {
      "cell_type": "code",
      "source": [
        "num = 234\n",
        "rem = 0\n",
        "sum = 0\n",
        "temp = num\n",
        "while num != 0 :\n",
        "  rem = num % 10\n",
        "  sum = sum + rem * rem * rem\n",
        "  num = num // 10\n",
        "if temp == sum :\n",
        "  print(\"armstrong number\")\n",
        "else :\n",
        "  print(\"not armstrong number\")\n"
      ],
      "metadata": {
        "colab": {
          "base_uri": "https://localhost:8080/"
        },
        "id": "tuBiN3oG3hvw",
        "outputId": "e6bb45c9-3d3e-4dd1-a8a3-78c9a70d83e6"
      },
      "execution_count": null,
      "outputs": [
        {
          "output_type": "stream",
          "name": "stdout",
          "text": [
            "not armstrong number\n"
          ]
        }
      ]
    },
    {
      "cell_type": "code",
      "source": [
        "num = 112\n",
        "rem = 0\n",
        "sum = 0\n",
        "temp = num\n",
        "while num != 0 :\n",
        "  rem = num % 10\n",
        "  sum = sum + rem * rem * rem\n",
        "  num = num // 10\n",
        "if temp == sum :\n",
        "  print(\"armstrong number\")\n",
        "else :\n",
        "  print(\"not armstrong number\")\n"
      ],
      "metadata": {
        "colab": {
          "base_uri": "https://localhost:8080/"
        },
        "id": "7jd4UyHf34E4",
        "outputId": "8338c978-dd18-46b3-8077-eb25ba54c48c"
      },
      "execution_count": null,
      "outputs": [
        {
          "output_type": "stream",
          "name": "stdout",
          "text": [
            "not armstrong number\n"
          ]
        }
      ]
    },
    {
      "cell_type": "code",
      "source": [
        "num = 12345\n",
        "rem = 0\n",
        "rev = 0\n",
        "temp = num\n",
        "while num > 0 :\n",
        "  rev  = num % 10\n",
        "  rev  = rev * 10 +rem\n",
        "  num = num // 10\n",
        "print(\"reverse number is:\" ,rev)\n",
        "\n"
      ],
      "metadata": {
        "colab": {
          "base_uri": "https://localhost:8080/"
        },
        "id": "Dbg3VNSs5A3Y",
        "outputId": "3c799ea0-13d3-44a8-f327-57d000177d68"
      },
      "execution_count": null,
      "outputs": [
        {
          "output_type": "stream",
          "name": "stdout",
          "text": [
            "reverse number is: 10\n"
          ]
        }
      ]
    },
    {
      "cell_type": "code",
      "source": [
        "num = 12321\n",
        "rem = 0\n",
        "rev = 0\n",
        "temp = num\n",
        "while num > 0 :\n",
        "  rev  = num % 10\n",
        "  rev  = rev * 10 +rem\n",
        "  num = num // 10\n",
        "  if temp == rev :\n",
        "    print(\"palindrome number\")\n",
        "  else :\n",
        "    print(\"not palindrome number\")\n"
      ],
      "metadata": {
        "colab": {
          "base_uri": "https://localhost:8080/"
        },
        "id": "d8NX3C1I8aRY",
        "outputId": "14f4f44d-1e90-4b57-da62-7ae22ddeadd8"
      },
      "execution_count": null,
      "outputs": [
        {
          "output_type": "stream",
          "name": "stdout",
          "text": [
            "not palindrome number\n",
            "not palindrome number\n",
            "not palindrome number\n",
            "not palindrome number\n",
            "not palindrome number\n"
          ]
        }
      ]
    },
    {
      "cell_type": "code",
      "source": [
        " i = 1\n",
        " while i <= 100 :\n",
        "  print(i, end = \" \")\n",
        "  i+=2"
      ],
      "metadata": {
        "colab": {
          "base_uri": "https://localhost:8080/"
        },
        "id": "i2rDC8Av9JVx",
        "outputId": "b4266a88-7fbe-43e0-f7ff-fa01eeb74675"
      },
      "execution_count": null,
      "outputs": [
        {
          "output_type": "stream",
          "name": "stdout",
          "text": [
            "1 3 5 7 9 11 13 15 17 19 21 23 25 27 29 31 33 35 37 39 41 43 45 47 49 51 53 55 57 59 61 63 65 67 69 71 73 75 77 79 81 83 85 87 89 91 93 95 97 99 "
          ]
        }
      ]
    },
    {
      "cell_type": "code",
      "source": [
        "num, a, b = 10, 0, 1\n",
        "i = 0\n",
        "while i <= num :\n",
        "  print(a, end = \" \")\n",
        "  a, b = b, a+b\n",
        "  i+=1"
      ],
      "metadata": {
        "colab": {
          "base_uri": "https://localhost:8080/"
        },
        "id": "6eKSf2hc97TB",
        "outputId": "895ee48c-4e03-4e53-b828-77f8171af4dc"
      },
      "execution_count": null,
      "outputs": [
        {
          "output_type": "stream",
          "name": "stdout",
          "text": [
            "0 1 1 2 3 5 8 13 21 34 55 "
          ]
        }
      ]
    },
    {
      "cell_type": "code",
      "source": [
        "num = 10\n",
        "while i <= 1280 :\n",
        "  print(i,end=\" \")\n",
        "  i*=2"
      ],
      "metadata": {
        "colab": {
          "base_uri": "https://localhost:8080/"
        },
        "id": "Cdxh-TFkAwVB",
        "outputId": "6a14f01f-5a59-4ae8-a48e-0432ef51529a"
      },
      "execution_count": null,
      "outputs": [
        {
          "output_type": "stream",
          "name": "stdout",
          "text": [
            "1 2 4 8 16 32 64 128 256 512 1024 "
          ]
        }
      ]
    }
  ]
}