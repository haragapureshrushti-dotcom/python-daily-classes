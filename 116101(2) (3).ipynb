{
  "nbformat": 4,
  "nbformat_minor": 0,
  "metadata": {
    "colab": {
      "provenance": []
    },
    "kernelspec": {
      "name": "python3",
      "display_name": "Python 3"
    },
    "language_info": {
      "name": "python"
    }
  },
  "cells": [
    {
      "cell_type": "code",
      "source": [
        "a,b,c = \"good\", \"morning\",18\n",
        "print(a,b,c)"
      ],
      "metadata": {
        "colab": {
          "base_uri": "https://localhost:8080/"
        },
        "id": "OyKcWbwRp7ui",
        "outputId": "019968e9-e3c0-4bbb-d2fc-bf743994bfd2"
      },
      "execution_count": null,
      "outputs": [
        {
          "output_type": "stream",
          "name": "stdout",
          "text": [
            "good morning 18\n"
          ]
        }
      ]
    },
    {
      "cell_type": "code",
      "source": [
        "x= y = z =1001\n",
        "print(x,y,z)"
      ],
      "metadata": {
        "colab": {
          "base_uri": "https://localhost:8080/"
        },
        "id": "cqp-lnkiuti7",
        "outputId": "1156699e-6191-4757-fbbf-ed82f0b5ff4d"
      },
      "execution_count": null,
      "outputs": [
        {
          "output_type": "stream",
          "name": "stdout",
          "text": [
            "1001 1001 1001\n"
          ]
        }
      ]
    },
    {
      "cell_type": "code",
      "source": [
        "A = B, C= \"College\" , 25\n",
        "print(B, C, A)"
      ],
      "metadata": {
        "colab": {
          "base_uri": "https://localhost:8080/"
        },
        "id": "WNGVsk6UvCxH",
        "outputId": "fe47fcac-7848-4b7c-d066-b9e74d249d50"
      },
      "execution_count": null,
      "outputs": [
        {
          "output_type": "stream",
          "name": "stdout",
          "text": [
            "College 25 ('College', 25)\n"
          ]
        }
      ]
    },
    {
      "cell_type": "code",
      "source": [
        "A =10\n",
        "B =20\n",
        "print(\"Addition of\",A,\"and\",B,\"is =\",A+B )"
      ],
      "metadata": {
        "colab": {
          "base_uri": "https://localhost:8080/"
        },
        "id": "OMNAii5FzKJs",
        "outputId": "58e58cd0-49eb-4960-fd6d-bce84371039d"
      },
      "execution_count": null,
      "outputs": [
        {
          "output_type": "stream",
          "name": "stdout",
          "text": [
            "Addition of 10 and 20 is = 30\n"
          ]
        }
      ]
    },
    {
      "cell_type": "code",
      "source": [
        "A=10\n",
        "print(type(A))"
      ],
      "metadata": {
        "colab": {
          "base_uri": "https://localhost:8080/"
        },
        "id": "JIV-GhVr0Bwt",
        "outputId": "e819f1d5-ea72-4b36-8599-c742f30bc518"
      },
      "execution_count": null,
      "outputs": [
        {
          "output_type": "stream",
          "name": "stdout",
          "text": [
            "<class 'int'>\n"
          ]
        }
      ]
    },
    {
      "cell_type": "code",
      "source": [
        "X = 35\n",
        "print(type(x))"
      ],
      "metadata": {
        "colab": {
          "base_uri": "https://localhost:8080/"
        },
        "id": "jA6wm0BU1XnK",
        "outputId": "00c8302a-f821-447a-f361-b7341668ea14"
      },
      "execution_count": null,
      "outputs": [
        {
          "output_type": "stream",
          "name": "stdout",
          "text": [
            "<class 'int'>\n"
          ]
        }
      ]
    },
    {
      "cell_type": "code",
      "source": [
        "college = -100\n",
        "print(type (college))"
      ],
      "metadata": {
        "colab": {
          "base_uri": "https://localhost:8080/"
        },
        "id": "uIsfIm2Y16DN",
        "outputId": "80bdaba3-68d2-4dd8-bd6a-a037df87195f"
      },
      "execution_count": null,
      "outputs": [
        {
          "output_type": "stream",
          "name": "stdout",
          "text": [
            "<class 'int'>\n"
          ]
        }
      ]
    },
    {
      "cell_type": "code",
      "source": [
        "value = 0\n",
        "print(type(value))"
      ],
      "metadata": {
        "colab": {
          "base_uri": "https://localhost:8080/"
        },
        "id": "ewLgnsCb2OAd",
        "outputId": "0f8543ef-7a63-4332-b832-c94fc4dc71ac"
      },
      "execution_count": null,
      "outputs": [
        {
          "output_type": "stream",
          "name": "stdout",
          "text": [
            "<class 'int'>\n"
          ]
        }
      ]
    },
    {
      "cell_type": "code",
      "source": [
        "system = +200\n",
        "print(type(system))"
      ],
      "metadata": {
        "colab": {
          "base_uri": "https://localhost:8080/"
        },
        "id": "qfpXQYtD2duu",
        "outputId": "ea4f42ba-bd75-4815-c45b-75816b3921de"
      },
      "execution_count": null,
      "outputs": [
        {
          "output_type": "stream",
          "name": "stdout",
          "text": [
            "<class 'int'>\n"
          ]
        }
      ]
    },
    {
      "cell_type": "code",
      "source": [
        " value = 3.33\n",
        " print(type(value))"
      ],
      "metadata": {
        "colab": {
          "base_uri": "https://localhost:8080/"
        },
        "id": "-1eGKxHv3GpO",
        "outputId": "20812106-004a-4245-a527-35b169708639"
      },
      "execution_count": null,
      "outputs": [
        {
          "output_type": "stream",
          "name": "stdout",
          "text": [
            "<class 'float'>\n"
          ]
        }
      ]
    },
    {
      "cell_type": "code",
      "source": [
        "name =-100.33\n",
        "print(type(name))"
      ],
      "metadata": {
        "colab": {
          "base_uri": "https://localhost:8080/"
        },
        "id": "Xic3ZBht32En",
        "outputId": "78140e77-7c12-4108-b8e9-d5886d939f24"
      },
      "execution_count": null,
      "outputs": [
        {
          "output_type": "stream",
          "name": "stdout",
          "text": [
            "<class 'float'>\n"
          ]
        }
      ]
    },
    {
      "cell_type": "code",
      "source": [
        "name = 100/7\n",
        "print(type(name))"
      ],
      "metadata": {
        "colab": {
          "base_uri": "https://localhost:8080/"
        },
        "id": "OPzYzrQB4E4f",
        "outputId": "9d7c06e2-f719-41e9-872a-c687166705de"
      },
      "execution_count": null,
      "outputs": [
        {
          "output_type": "stream",
          "name": "stdout",
          "text": [
            "<class 'float'>\n"
          ]
        }
      ]
    },
    {
      "cell_type": "code",
      "source": [
        "yes = True\n",
        "print(type(yes))"
      ],
      "metadata": {
        "colab": {
          "base_uri": "https://localhost:8080/"
        },
        "id": "VemGtYsI4Y1I",
        "outputId": "1e5d8d47-1db2-47f9-bf94-bf8426bbd925"
      },
      "execution_count": null,
      "outputs": [
        {
          "output_type": "stream",
          "name": "stdout",
          "text": [
            "<class 'bool'>\n"
          ]
        }
      ]
    },
    {
      "cell_type": "code",
      "source": [
        "yes = \"False\"\n",
        "print(type(yes))\n"
      ],
      "metadata": {
        "colab": {
          "base_uri": "https://localhost:8080/"
        },
        "id": "IEG1nxK25eAt",
        "outputId": "56039bce-ba6f-498d-df23-c49f8faa4a16"
      },
      "execution_count": null,
      "outputs": [
        {
          "output_type": "stream",
          "name": "stdout",
          "text": [
            "<class 'str'>\n"
          ]
        }
      ]
    },
    {
      "cell_type": "code",
      "source": [
        "value = 27.12\n",
        "print(type(value))"
      ],
      "metadata": {
        "colab": {
          "base_uri": "https://localhost:8080/"
        },
        "id": "16qK0-fb6OqX",
        "outputId": "7c2d26e7-c00b-4cb6-8d76-0dcb7fb6fe5b"
      },
      "execution_count": null,
      "outputs": [
        {
          "output_type": "stream",
          "name": "stdout",
          "text": [
            "<class 'float'>\n"
          ]
        }
      ]
    },
    {
      "cell_type": "code",
      "source": [
        "section = '''c'''\n",
        "print(type(section))"
      ],
      "metadata": {
        "colab": {
          "base_uri": "https://localhost:8080/"
        },
        "id": "I51Ls1u16lhf",
        "outputId": "6d9cd369-c904-4be5-d79c-9535e8d3e384"
      },
      "execution_count": null,
      "outputs": [
        {
          "output_type": "stream",
          "name": "stdout",
          "text": [
            "<class 'str'>\n"
          ]
        }
      ]
    },
    {
      "cell_type": "code",
      "source": [
        "programe = \"\"\" programe\"\"\"\n",
        "print(type(programe))"
      ],
      "metadata": {
        "colab": {
          "base_uri": "https://localhost:8080/"
        },
        "id": "1HLTi6ps617-",
        "outputId": "efd66774-32ba-4560-d558-15431ae8cbe8"
      },
      "execution_count": null,
      "outputs": [
        {
          "output_type": "stream",
          "name": "stdout",
          "text": [
            "<class 'str'>\n"
          ]
        }
      ]
    },
    {
      "cell_type": "code",
      "source": [
        "String = \"python programming language\"\n",
        "\n",
        "print(String)"
      ],
      "metadata": {
        "colab": {
          "base_uri": "https://localhost:8080/"
        },
        "id": "3tseGyUd9MMY",
        "outputId": "e526cebe-3445-4a7e-8103-fdefa1d7b6ce"
      },
      "execution_count": null,
      "outputs": [
        {
          "output_type": "stream",
          "name": "stdout",
          "text": [
            "python programming language\n"
          ]
        }
      ]
    },
    {
      "cell_type": "code",
      "source": [
        "first = \"BK\\n\"\n",
        "second = \"college\\n\"\n",
        "print(first+second*5)"
      ],
      "metadata": {
        "colab": {
          "base_uri": "https://localhost:8080/"
        },
        "id": "cSNsMGFD-aiA",
        "outputId": "ee1fd1ac-3e1f-4ae9-bf50-d457ece0b728"
      },
      "execution_count": null,
      "outputs": [
        {
          "output_type": "stream",
          "name": "stdout",
          "text": [
            "BK\n",
            "college\n",
            "college\n",
            "college\n",
            "college\n",
            "college\n",
            "\n"
          ]
        }
      ]
    },
    {
      "cell_type": "code",
      "source": [
        "Number = 78*3\n",
        "print(type(Number))"
      ],
      "metadata": {
        "colab": {
          "base_uri": "https://localhost:8080/"
        },
        "id": "I0h5ptdGBEZS",
        "outputId": "f6bb4fb8-20e0-49cf-c4d1-14f50fa9f01f"
      },
      "execution_count": null,
      "outputs": [
        {
          "output_type": "stream",
          "name": "stdout",
          "text": [
            "<class 'int'>\n"
          ]
        }
      ]
    },
    {
      "cell_type": "code",
      "source": [
        "first = \"BK\"\n",
        "SECOND = \"college\"\n",
        "print(((first +\" \"+second)+\"\\n\")*5)"
      ],
      "metadata": {
        "colab": {
          "base_uri": "https://localhost:8080/"
        },
        "id": "hplVN2BoCQgo",
        "outputId": "3f201e3c-44e0-4ca3-fe72-f10604200ff4"
      },
      "execution_count": null,
      "outputs": [
        {
          "output_type": "stream",
          "name": "stdout",
          "text": [
            "BK college\n",
            "\n",
            "BK college\n",
            "\n",
            "BK college\n",
            "\n",
            "BK college\n",
            "\n",
            "BK college\n",
            "\n",
            "\n"
          ]
        }
      ]
    },
    {
      "cell_type": "code",
      "source": [
        "name = \"python programming languages\"\n",
        "print(name[5])\n",
        "print(name[-2])\n",
        "print(name[18])\n",
        "print(name[3:14])\n",
        "print(name[:20])\n",
        "print(name[6:])\n",
        "print(name[:-1])\n",
        "print(name[-22:-4])\n",
        "print(name[::1])\n",
        "print(name[::2])\n",
        "print(name[::-1])\n",
        "print(name[::-3])\n",
        "print(name[::-4])\n"
      ],
      "metadata": {
        "colab": {
          "base_uri": "https://localhost:8080/"
        },
        "id": "vY-uvK_wEgWn",
        "outputId": "6d66c488-515b-4a67-e5cf-28351381688c"
      },
      "execution_count": null,
      "outputs": [
        {
          "output_type": "stream",
          "name": "stdout",
          "text": [
            "n\n",
            "e\n",
            " \n",
            "hon program\n",
            "python programming l\n",
            " programming languages\n",
            "python programming language\n",
            " programming langu\n",
            "python programming languages\n",
            "pto rgamn agae\n",
            "segaugnal gnimmargorp nohtyp\n",
            "san iao hp\n",
            "sulirph\n"
          ]
        }
      ]
    },
    {
      "cell_type": "code",
      "source": [
        " Details ='''multi line comments\n",
        "hi, Good Morning\n",
        "'''\n",
        "print(Details)"
      ],
      "metadata": {
        "colab": {
          "base_uri": "https://localhost:8080/"
        },
        "id": "RyNjet12KtCq",
        "outputId": "b3d4cd06-5621-45ed-9704-3ae340a179a2"
      },
      "execution_count": null,
      "outputs": [
        {
          "output_type": "stream",
          "name": "stdout",
          "text": [
            "multi line comments\n",
            "hi, Good Morning\n",
            "\n"
          ]
        }
      ]
    },
    {
      "cell_type": "code",
      "source": [
        "list1 = [101]\n",
        "print(list1)\n",
        "print(type(list1))\n",
        "list1. append(\"shrushti\")\n",
        "print(list1)"
      ],
      "metadata": {
        "colab": {
          "base_uri": "https://localhost:8080/"
        },
        "id": "V2rRUzPpZZfO",
        "outputId": "0cbe8066-73f3-40df-9732-e78262cf1853"
      },
      "execution_count": null,
      "outputs": [
        {
          "output_type": "stream",
          "name": "stdout",
          "text": [
            "[101]\n",
            "<class 'list'>\n",
            "[101, 'shrushti']\n"
          ]
        }
      ]
    },
    {
      "cell_type": "code",
      "source": [
        "details = [101]\n",
        "print(details) #101\n",
        "print(type(details))#list"
      ],
      "metadata": {
        "id": "jN0jGzMmQyZ1"
      },
      "execution_count": null,
      "outputs": []
    }
  ]
}